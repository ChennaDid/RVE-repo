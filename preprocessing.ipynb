{
 "cells": [
  {
   "attachments": {},
   "cell_type": "markdown",
   "metadata": {},
   "source": [
    "# Preprocessing Module\n",
    "\n",
    "### Import"
   ]
  },
  {
   "cell_type": "code",
   "execution_count": 4,
   "metadata": {},
   "outputs": [],
   "source": [
    "import matplotlib.pyplot as plt # Mathematical library for Plotting"
   ]
  },
  {
   "attachments": {},
   "cell_type": "markdown",
   "metadata": {},
   "source": [
    "## \"Draw\" Function\n",
    "Purpose: Function draws circles on an image\n",
    "\n",
    "### Inputs \n",
    "* image (array) = RGB(A) data, or 2D scalar data\n",
    "* circles() = \n",
    "* title (string) = title of the figure draw on an image\n",
    "\n",
    "### Methods\n",
    "\n",
    "**plt.figure(figsize=(5, 5))**\n",
    "* Purpose: Instantiates a new figure\n",
    "* figsize(float, float) = Define figure size (width, height) in inches\n",
    "\n",
    "**plt.imshow(X = image, cmap='gray', vmin=0, vmax=255)**\n",
    "* Purpose: Display data as an image, i.e., on a 2D regular raster.\n",
    "* X(array-like or PIL image) = Image data (SPECIFY ARRAY SIZE)\n",
    "* To make the colour scale greyscale: cmap='gray', vmin=0, vmax=255"
   ]
  },
  {
   "cell_type": "code",
   "execution_count": 5,
   "metadata": {},
   "outputs": [],
   "source": [
    "# Function for drawing circles\n",
    "def draw(image,circles,title):\n",
    "    fig = plt.figure(figsize=(5, 5)) # fig, ax = plt.subplots()\n",
    "    plt.suptitle(title, fontsize=35)\n",
    "    plt.imshow(image, cmap='gray', vmin=0, vmax=255);\n",
    "    for row in circles[0, :]:\n",
    "     # draw the outer circle\n",
    "     fig = plt.gcf();\n",
    "     ax = fig.gca()\n",
    "     circle = plt.Circle((row[0], row[1]), row[2], color='r', linewidth = 2, fill=False, clip_on = True)\n",
    "     ax.add_artist(circle)\n",
    "     plt.axis('off');\n",
    "     plt.axis('equal'); plt.show(block=False);"
   ]
  }
 ],
 "metadata": {
  "kernelspec": {
   "display_name": "base",
   "language": "python",
   "name": "python3"
  },
  "language_info": {
   "codemirror_mode": {
    "name": "ipython",
    "version": 3
   },
   "file_extension": ".py",
   "mimetype": "text/x-python",
   "name": "python",
   "nbconvert_exporter": "python",
   "pygments_lexer": "ipython3",
   "version": "3.8.15 (default, Nov 24 2022, 14:38:14) [MSC v.1916 64 bit (AMD64)]"
  },
  "orig_nbformat": 4,
  "vscode": {
   "interpreter": {
    "hash": "afbccf60add8cafc42bcb4a1b4050349d2bd794d059807e93736b773c8ad552b"
   }
  }
 },
 "nbformat": 4,
 "nbformat_minor": 2
}
